{
 "cells": [
  {
   "cell_type": "markdown",
   "metadata": {},
   "source": [
    "# Importar librerías"
   ]
  },
  {
   "cell_type": "code",
   "execution_count": 2,
   "metadata": {},
   "outputs": [
    {
     "name": "stdout",
     "output_type": "stream",
     "text": [
      "setup-complete!\n"
     ]
    }
   ],
   "source": [
    "import pandas as pd\n",
    "import os\n",
    "import numpy as np\n",
    "import seaborn as sns\n",
    "import warnings\n",
    "import statsmodels.api as sm\n",
    "from matplotlib import pylab as plt\n",
    "from statsmodels.graphics.gofplots import qqplot\n",
    "from sklearn.model_selection import train_test_split,cross_val_score\n",
    "from sklearn.feature_selection import SelectKBest\n",
    "from sklearn.feature_selection import f_regression\n",
    "from sklearn.feature_selection import mutual_info_regression\n",
    "from sklearn.linear_model import LinearRegression\n",
    "import lightgbm as lgb\n",
    "from sklearn.preprocessing import StandardScaler\n",
    "from sklearn.metrics import r2_score, mean_squared_log_error , mean_squared_error\n",
    "import sys\n",
    "sys.setrecursionlimit(5000)\n",
    "\n",
    "warnings.simplefilter(action=\"ignore\", category=FutureWarning)\n",
    "warnings.simplefilter(action=\"ignore\", category=Warning)\n",
    "\n",
    "def set_seed(seed=42):\n",
    "    np.random.seed(seed)\n",
    "    os.environ[\"PYTHONHASHSEED\"] = str(seed)\n",
    "    os.environ[\"TF_DETERMINISTIC_OPS\"] = \"1\"\n",
    "set_seed()\n",
    "\n",
    "pd.set_option(\"display.width\", 100)\n",
    "pd.set_option(\"display.max_columns\", 50)\n",
    "pd.set_option(\"display.max_rows\", 20)\n",
    "\n",
    "print(\"setup-complete!\")"
   ]
  },
  {
   "cell_type": "markdown",
   "metadata": {},
   "source": [
    "# Funciones"
   ]
  },
  {
   "cell_type": "code",
   "execution_count": 3,
   "metadata": {},
   "outputs": [],
   "source": [
    "def missing_zero_values_table(df):\n",
    "    \"\"\"\n",
    "    Obtener tabla resumen de valores ceros y faltantes en cada columna\n",
    "    \n",
    "    Parámetros\n",
    "    ----------\n",
    "    df : DataFrame\n",
    "        \n",
    "    Regresa\n",
    "    -------\n",
    "    mz_table : Dataframe\n",
    "        Regresa la tabla resumen con valores faltantes y ceros\n",
    "    \"\"\"\n",
    "    zero_val = (df == 0.00).astype(int).sum(axis=0)\n",
    "    mis_val = df.isnull().sum()\n",
    "    mz_table = pd.concat([zero_val, mis_val], axis=1)\n",
    "    mz_table = mz_table.rename(\n",
    "    columns = {0 : 'Valores Cero', 1 : 'Valores missing'})\n",
    "    mz_table['Valores cero y missing'] = mz_table['Valores Cero'] + mz_table['Valores missing']\n",
    "    mz_table['% de cero y missing'] = 100 * mz_table['Valores cero y missing'] / len(df)\n",
    "    mz_table['Tipo de dato'] = df.dtypes\n",
    "    mz_table = mz_table.sort_values(\n",
    "    '% de cero y missing', ascending=False).round(3)\n",
    "    print (\"El dataframe seleccionado tiene \" + str(df.shape[1]) + \" columnas y \" + str(df.shape[0]) + \" filas.\\n\"      \n",
    "        \"Hay \" + str(mz_table.shape[0]) +\n",
    "            \" columnas que no tienen valores vacíos.\")\n",
    "    return mz_table"
   ]
  },
  {
   "cell_type": "code",
   "execution_count": 13,
   "metadata": {},
   "outputs": [],
   "source": [
    "def univariate_analysis(data, color, title1, title2):\n",
    "    \n",
    "    \"\"\"\n",
    "    Mostrando visualización de análisis univariado\n",
    "    con displot y qqplot, visualización \n",
    "    de seaborn y statsmodel\n",
    "    \n",
    "    Parámetros\n",
    "    ----------\n",
    "    data : DataFrame o array\n",
    "        Dataset para plotear. \n",
    "    title1: Titulo para displot\n",
    "    title2: Titulo para quantilplit\n",
    "        \n",
    "    Regresa\n",
    "    -------\n",
    "    fig : matplotlib figure\n",
    "        Regrse una figura con los dos gráficos\n",
    "    \"\"\"\n",
    "    \n",
    "    fig, (ax1, ax2) = plt.subplots(\n",
    "        ncols=2,\n",
    "        nrows=1,\n",
    "        figsize=(20, 6)\n",
    "    )\n",
    "\n",
    "    sns.distplot( \n",
    "        data,\n",
    "        ax=ax1,\n",
    "        kde=True,\n",
    "        color=color \n",
    "    )\n",
    "    \n",
    "    ax1.set_title(\n",
    "        title1, \n",
    "        weight=\"bold\",\n",
    "        fontname=\"monospace\", \n",
    "        fontsize=25, \n",
    "        pad=30 \n",
    "    )\n",
    "    \n",
    "    qqplot( \n",
    "        data, \n",
    "        ax=ax2, \n",
    "        line='s' \n",
    "    )\n",
    "    \n",
    "    ax2.set_title( \n",
    "        title2, \n",
    "        weight=\"bold\", \n",
    "        fontname=\"monospace\", \n",
    "        fontsize=25, \n",
    "        pad=30 \n",
    "    )\n",
    "    \n",
    "    return fig "
   ]
  },
  {
   "cell_type": "markdown",
   "metadata": {},
   "source": [
    "# Leer Dataset"
   ]
  },
  {
   "cell_type": "code",
   "execution_count": 4,
   "metadata": {},
   "outputs": [
    {
     "data": {
      "text/html": [
       "<div>\n",
       "<style scoped>\n",
       "    .dataframe tbody tr th:only-of-type {\n",
       "        vertical-align: middle;\n",
       "    }\n",
       "\n",
       "    .dataframe tbody tr th {\n",
       "        vertical-align: top;\n",
       "    }\n",
       "\n",
       "    .dataframe thead th {\n",
       "        text-align: right;\n",
       "    }\n",
       "</style>\n",
       "<table border=\"1\" class=\"dataframe\">\n",
       "  <thead>\n",
       "    <tr style=\"text-align: right;\">\n",
       "      <th></th>\n",
       "      <th>id</th>\n",
       "      <th>vendor_id</th>\n",
       "      <th>pickup_datetime</th>\n",
       "      <th>dropoff_datetime</th>\n",
       "      <th>passenger_count</th>\n",
       "      <th>pickup_longitude</th>\n",
       "      <th>pickup_latitude</th>\n",
       "      <th>dropoff_longitude</th>\n",
       "      <th>dropoff_latitude</th>\n",
       "      <th>store_and_fwd_flag</th>\n",
       "      <th>trip_duration</th>\n",
       "    </tr>\n",
       "  </thead>\n",
       "  <tbody>\n",
       "    <tr>\n",
       "      <th>0</th>\n",
       "      <td>id2875421</td>\n",
       "      <td>2</td>\n",
       "      <td>2016-03-14 17:24:55</td>\n",
       "      <td>2016-03-14 17:32:30</td>\n",
       "      <td>1</td>\n",
       "      <td>-73.982155</td>\n",
       "      <td>40.767937</td>\n",
       "      <td>-73.964630</td>\n",
       "      <td>40.765602</td>\n",
       "      <td>N</td>\n",
       "      <td>455</td>\n",
       "    </tr>\n",
       "    <tr>\n",
       "      <th>1</th>\n",
       "      <td>id2377394</td>\n",
       "      <td>1</td>\n",
       "      <td>2016-06-12 00:43:35</td>\n",
       "      <td>2016-06-12 00:54:38</td>\n",
       "      <td>1</td>\n",
       "      <td>-73.980415</td>\n",
       "      <td>40.738564</td>\n",
       "      <td>-73.999481</td>\n",
       "      <td>40.731152</td>\n",
       "      <td>N</td>\n",
       "      <td>663</td>\n",
       "    </tr>\n",
       "    <tr>\n",
       "      <th>2</th>\n",
       "      <td>id3858529</td>\n",
       "      <td>2</td>\n",
       "      <td>2016-01-19 11:35:24</td>\n",
       "      <td>2016-01-19 12:10:48</td>\n",
       "      <td>1</td>\n",
       "      <td>-73.979027</td>\n",
       "      <td>40.763939</td>\n",
       "      <td>-74.005333</td>\n",
       "      <td>40.710087</td>\n",
       "      <td>N</td>\n",
       "      <td>2124</td>\n",
       "    </tr>\n",
       "    <tr>\n",
       "      <th>3</th>\n",
       "      <td>id3504673</td>\n",
       "      <td>2</td>\n",
       "      <td>2016-04-06 19:32:31</td>\n",
       "      <td>2016-04-06 19:39:40</td>\n",
       "      <td>1</td>\n",
       "      <td>-74.010040</td>\n",
       "      <td>40.719971</td>\n",
       "      <td>-74.012268</td>\n",
       "      <td>40.706718</td>\n",
       "      <td>N</td>\n",
       "      <td>429</td>\n",
       "    </tr>\n",
       "    <tr>\n",
       "      <th>4</th>\n",
       "      <td>id2181028</td>\n",
       "      <td>2</td>\n",
       "      <td>2016-03-26 13:30:55</td>\n",
       "      <td>2016-03-26 13:38:10</td>\n",
       "      <td>1</td>\n",
       "      <td>-73.973053</td>\n",
       "      <td>40.793209</td>\n",
       "      <td>-73.972923</td>\n",
       "      <td>40.782520</td>\n",
       "      <td>N</td>\n",
       "      <td>435</td>\n",
       "    </tr>\n",
       "  </tbody>\n",
       "</table>\n",
       "</div>"
      ],
      "text/plain": [
       "          id  vendor_id      pickup_datetime     dropoff_datetime  passenger_count  \\\n",
       "0  id2875421          2  2016-03-14 17:24:55  2016-03-14 17:32:30                1   \n",
       "1  id2377394          1  2016-06-12 00:43:35  2016-06-12 00:54:38                1   \n",
       "2  id3858529          2  2016-01-19 11:35:24  2016-01-19 12:10:48                1   \n",
       "3  id3504673          2  2016-04-06 19:32:31  2016-04-06 19:39:40                1   \n",
       "4  id2181028          2  2016-03-26 13:30:55  2016-03-26 13:38:10                1   \n",
       "\n",
       "   pickup_longitude  pickup_latitude  dropoff_longitude  dropoff_latitude store_and_fwd_flag  \\\n",
       "0        -73.982155        40.767937         -73.964630         40.765602                  N   \n",
       "1        -73.980415        40.738564         -73.999481         40.731152                  N   \n",
       "2        -73.979027        40.763939         -74.005333         40.710087                  N   \n",
       "3        -74.010040        40.719971         -74.012268         40.706718                  N   \n",
       "4        -73.973053        40.793209         -73.972923         40.782520                  N   \n",
       "\n",
       "   trip_duration  \n",
       "0            455  \n",
       "1            663  \n",
       "2           2124  \n",
       "3            429  \n",
       "4            435  "
      ]
     },
     "execution_count": 4,
     "metadata": {},
     "output_type": "execute_result"
    }
   ],
   "source": [
    "df=pd.read_csv('1. New york taxi.csv')\n",
    "df.head()"
   ]
  },
  {
   "cell_type": "markdown",
   "metadata": {},
   "source": [
    "# EDA"
   ]
  },
  {
   "cell_type": "code",
   "execution_count": 10,
   "metadata": {},
   "outputs": [
    {
     "name": "stdout",
     "output_type": "stream",
     "text": [
      "<class 'pandas.core.frame.DataFrame'>\n",
      "RangeIndex: 1458644 entries, 0 to 1458643\n",
      "Data columns (total 11 columns):\n",
      " #   Column              Non-Null Count    Dtype  \n",
      "---  ------              --------------    -----  \n",
      " 0   id                  1458644 non-null  object \n",
      " 1   vendor_id           1458644 non-null  int64  \n",
      " 2   pickup_datetime     1458644 non-null  object \n",
      " 3   dropoff_datetime    1458644 non-null  object \n",
      " 4   passenger_count     1458644 non-null  int64  \n",
      " 5   pickup_longitude    1458644 non-null  float64\n",
      " 6   pickup_latitude     1458644 non-null  float64\n",
      " 7   dropoff_longitude   1458644 non-null  float64\n",
      " 8   dropoff_latitude    1458644 non-null  float64\n",
      " 9   store_and_fwd_flag  1458644 non-null  object \n",
      " 10  trip_duration       1458644 non-null  int64  \n",
      "dtypes: float64(4), int64(3), object(4)\n",
      "memory usage: 122.4+ MB\n"
     ]
    }
   ],
   "source": [
    "df.info()"
   ]
  },
  {
   "cell_type": "markdown",
   "metadata": {},
   "source": [
    "Tenemos 4 columnas de tipo float, 3 de tipo entero y 4 de tipo objeto"
   ]
  },
  {
   "cell_type": "code",
   "execution_count": 5,
   "metadata": {},
   "outputs": [
    {
     "name": "stdout",
     "output_type": "stream",
     "text": [
      "El dataframe seleccionado tiene 11 columnas y 1458644 filas.\n",
      "Hay 11 columnas que no tienen valores vacíos.\n"
     ]
    },
    {
     "data": {
      "text/html": [
       "<div>\n",
       "<style scoped>\n",
       "    .dataframe tbody tr th:only-of-type {\n",
       "        vertical-align: middle;\n",
       "    }\n",
       "\n",
       "    .dataframe tbody tr th {\n",
       "        vertical-align: top;\n",
       "    }\n",
       "\n",
       "    .dataframe thead th {\n",
       "        text-align: right;\n",
       "    }\n",
       "</style>\n",
       "<table border=\"1\" class=\"dataframe\">\n",
       "  <thead>\n",
       "    <tr style=\"text-align: right;\">\n",
       "      <th></th>\n",
       "      <th>Valores Cero</th>\n",
       "      <th>Valores missing</th>\n",
       "      <th>Valores cero y missing</th>\n",
       "      <th>% de cero y missing</th>\n",
       "      <th>Tipo de dato</th>\n",
       "    </tr>\n",
       "  </thead>\n",
       "  <tbody>\n",
       "    <tr>\n",
       "      <th>passenger_count</th>\n",
       "      <td>60</td>\n",
       "      <td>0</td>\n",
       "      <td>60</td>\n",
       "      <td>0.004</td>\n",
       "      <td>int64</td>\n",
       "    </tr>\n",
       "    <tr>\n",
       "      <th>id</th>\n",
       "      <td>0</td>\n",
       "      <td>0</td>\n",
       "      <td>0</td>\n",
       "      <td>0.000</td>\n",
       "      <td>object</td>\n",
       "    </tr>\n",
       "    <tr>\n",
       "      <th>vendor_id</th>\n",
       "      <td>0</td>\n",
       "      <td>0</td>\n",
       "      <td>0</td>\n",
       "      <td>0.000</td>\n",
       "      <td>int64</td>\n",
       "    </tr>\n",
       "    <tr>\n",
       "      <th>pickup_datetime</th>\n",
       "      <td>0</td>\n",
       "      <td>0</td>\n",
       "      <td>0</td>\n",
       "      <td>0.000</td>\n",
       "      <td>object</td>\n",
       "    </tr>\n",
       "    <tr>\n",
       "      <th>dropoff_datetime</th>\n",
       "      <td>0</td>\n",
       "      <td>0</td>\n",
       "      <td>0</td>\n",
       "      <td>0.000</td>\n",
       "      <td>object</td>\n",
       "    </tr>\n",
       "    <tr>\n",
       "      <th>pickup_longitude</th>\n",
       "      <td>0</td>\n",
       "      <td>0</td>\n",
       "      <td>0</td>\n",
       "      <td>0.000</td>\n",
       "      <td>float64</td>\n",
       "    </tr>\n",
       "    <tr>\n",
       "      <th>pickup_latitude</th>\n",
       "      <td>0</td>\n",
       "      <td>0</td>\n",
       "      <td>0</td>\n",
       "      <td>0.000</td>\n",
       "      <td>float64</td>\n",
       "    </tr>\n",
       "    <tr>\n",
       "      <th>dropoff_longitude</th>\n",
       "      <td>0</td>\n",
       "      <td>0</td>\n",
       "      <td>0</td>\n",
       "      <td>0.000</td>\n",
       "      <td>float64</td>\n",
       "    </tr>\n",
       "    <tr>\n",
       "      <th>dropoff_latitude</th>\n",
       "      <td>0</td>\n",
       "      <td>0</td>\n",
       "      <td>0</td>\n",
       "      <td>0.000</td>\n",
       "      <td>float64</td>\n",
       "    </tr>\n",
       "    <tr>\n",
       "      <th>store_and_fwd_flag</th>\n",
       "      <td>0</td>\n",
       "      <td>0</td>\n",
       "      <td>0</td>\n",
       "      <td>0.000</td>\n",
       "      <td>object</td>\n",
       "    </tr>\n",
       "    <tr>\n",
       "      <th>trip_duration</th>\n",
       "      <td>0</td>\n",
       "      <td>0</td>\n",
       "      <td>0</td>\n",
       "      <td>0.000</td>\n",
       "      <td>int64</td>\n",
       "    </tr>\n",
       "  </tbody>\n",
       "</table>\n",
       "</div>"
      ],
      "text/plain": [
       "                    Valores Cero  Valores missing  Valores cero y missing  % de cero y missing  \\\n",
       "passenger_count               60                0                      60                0.004   \n",
       "id                             0                0                       0                0.000   \n",
       "vendor_id                      0                0                       0                0.000   \n",
       "pickup_datetime                0                0                       0                0.000   \n",
       "dropoff_datetime               0                0                       0                0.000   \n",
       "pickup_longitude               0                0                       0                0.000   \n",
       "pickup_latitude                0                0                       0                0.000   \n",
       "dropoff_longitude              0                0                       0                0.000   \n",
       "dropoff_latitude               0                0                       0                0.000   \n",
       "store_and_fwd_flag             0                0                       0                0.000   \n",
       "trip_duration                  0                0                       0                0.000   \n",
       "\n",
       "                   Tipo de dato  \n",
       "passenger_count           int64  \n",
       "id                       object  \n",
       "vendor_id                 int64  \n",
       "pickup_datetime          object  \n",
       "dropoff_datetime         object  \n",
       "pickup_longitude        float64  \n",
       "pickup_latitude         float64  \n",
       "dropoff_longitude       float64  \n",
       "dropoff_latitude        float64  \n",
       "store_and_fwd_flag       object  \n",
       "trip_duration             int64  "
      ]
     },
     "execution_count": 5,
     "metadata": {},
     "output_type": "execute_result"
    }
   ],
   "source": [
    "missing_zero_values_table(df)"
   ]
  },
  {
   "cell_type": "markdown",
   "metadata": {},
   "source": [
    "* Se observa que hay registros que contienen 0 en el número de pasajeros, lo cual podría ser considerado un outlier ya que un viaje en taxi tiene que contener al menos un pasajero.\n",
    "* No se observa valores nulos"
   ]
  },
  {
   "cell_type": "markdown",
   "metadata": {},
   "source": [
    "Se convierte la variable fecha en formato fecha para obtener componentes temporales e incluirlos dentro del modelo"
   ]
  },
  {
   "cell_type": "code",
   "execution_count": 3,
   "metadata": {},
   "outputs": [],
   "source": [
    "df['pickup_datetime'] = pd.to_datetime(df['pickup_datetime'])\n",
    "df['dropoff_datetime'] = pd.to_datetime(df['dropoff_datetime'])\n",
    "\n",
    "df['pickup_day'] = df['pickup_datetime'].dt.day\n",
    "df['pickup_month'] = df['pickup_datetime'].dt.month\n",
    "df['pickup_hour'] = df['pickup_datetime'].dt.hour\n",
    "df['pickup_min'] = df['pickup_datetime'].dt.minute\n",
    "df['pickup_weekday'] = df['pickup_datetime'].dt.weekday\n",
    "\n",
    "df['dropoff_min'] = df['dropoff_datetime'].dt.minute\n",
    "df['dropoff_hour'] = df['dropoff_datetime'].dt.hour\n",
    "df['log_trip_duration']=np.log(df['trip_duration'])"
   ]
  },
  {
   "cell_type": "code",
   "execution_count": 14,
   "metadata": {},
   "outputs": [
    {
     "data": {
      "image/png": "[encoded data removed]",
      "text/plain": [
       "<Figure size 1440x432 with 2 Axes>"
      ]
     },
     "metadata": {
      "needs_background": "light"
     },
     "output_type": "display_data"
    }
   ],
   "source": [
    "univariate_analysis( \n",
    "    data=df[\"trip_duration\"], \n",
    "    color=\"red\", \n",
    "    title1=\"Trip Duration Data Distribution\", \n",
    "    title2=\"Quantile Plot\")"
   ]
  },
  {
   "cell_type": "markdown",
   "metadata": {},
   "source": [
    "El histograma es asimétrico y no sigue una distribución normal por el gráfico de la izquierda"
   ]
  },
  {
   "cell_type": "code",
   "execution_count": 7,
   "metadata": {},
   "outputs": [
    {
     "name": "stdout",
     "output_type": "stream",
     "text": [
      "Media trip duration 959.4922729603659\n",
      "Std trip duration 5237.429929188969\n",
      "Limite inferior -9515.367585417573\n",
      "Limite superior 11434.352131338304\n"
     ]
    }
   ],
   "source": [
    "print('Media trip duration',np.mean(df[\"trip_duration\"]))\n",
    "print('Std trip duration',np.std(df[\"trip_duration\"]))\n",
    "lim_inf=np.mean(df[\"trip_duration\"])-2*np.std(df[\"trip_duration\"])\n",
    "lim_sup=np.mean(df[\"trip_duration\"])+2*np.std(df[\"trip_duration\"])\n",
    "print('Limite inferior',lim_inf)\n",
    "print('Limite superior',lim_sup)"
   ]
  },
  {
   "cell_type": "markdown",
   "metadata": {},
   "source": [
    "***Interpretación:***\n",
    "\n",
    "Siguiendo el teorema de Chebychev al menos en el $75$% de la duración de los viajes en nueva york se tiene una duración de casi 3 horas"
   ]
  },
  {
   "cell_type": "code",
   "execution_count": 17,
   "metadata": {},
   "outputs": [
    {
     "data": {
      "image/png": "[encoded data removed]",
      "text/plain": [
       "<Figure size 1440x432 with 2 Axes>"
      ]
     },
     "metadata": {
      "needs_background": "light"
     },
     "output_type": "display_data"
    }
   ],
   "source": [
    "univariate_analysis( \n",
    "    data=df[\"log_trip_duration\"], \n",
    "    color=\"red\", \n",
    "    title1=\"Trip Duration Data Distribution\",\n",
    "    title2=\"Quantile Plot\")"
   ]
  },
  {
   "cell_type": "markdown",
   "metadata": {},
   "source": [
    "Si a la variable de trip duration se saca su logaritmo, se va a acercar a una distribución normal la distribución de la variable"
   ]
  },
  {
   "cell_type": "code",
   "execution_count": 28,
   "metadata": {},
   "outputs": [
    {
     "data": {
      "text/plain": [
       "<Figure size 1440x360 with 0 Axes>"
      ]
     },
     "execution_count": 28,
     "metadata": {},
     "output_type": "execute_result"
    },
    {
     "data": {
      "text/plain": [
       "<AxesSubplot:xlabel='passenger_count'>"
      ]
     },
     "execution_count": 28,
     "metadata": {},
     "output_type": "execute_result"
    },
    {
     "data": {
      "text/plain": [
       "Text(0.5, 1.0, 'Passenger Count Distribution')"
      ]
     },
     "execution_count": 28,
     "metadata": {},
     "output_type": "execute_result"
    },
    {
     "data": {
      "image/png": "[encoded data removed]",
      "text/plain": [
       "<Figure size 1440x360 with 1 Axes>"
      ]
     },
     "metadata": {
      "needs_background": "light"
     },
     "output_type": "display_data"
    }
   ],
   "source": [
    "plt.figure(figsize=(20,5))\n",
    "sns.boxplot(df['passenger_count'], color='maroon')\n",
    "plt.title('Passenger Count Distribution')"
   ]
  },
  {
   "cell_type": "markdown",
   "metadata": {},
   "source": [
    "A partir de este diagrama de caja se observa que la variable de cantidad de pasajeros tiene valores outliers y son aquellos que superan el valor de 4. Al mismo tiempo, se sigue observando que se tiene valores 0. Se podría probar entrenar el modelo sin los outliers y los 0"
   ]
  },
  {
   "cell_type": "markdown",
   "metadata": {},
   "source": [
    "## Generación de reporte de pandas profilling"
   ]
  },
  {
   "cell_type": "markdown",
   "metadata": {},
   "source": [
    "El siguiente reporte que se genera, nos brinda un overview de cada variable y su dsitribución ya se variable categórica, fecha o numérica. Al mismo tiempo, se puede visualizar las interacciones con la variable objetivo que es trip duration. Por último, se observa un gráfico de correlación para determinar la relación entre las variables."
   ]
  },
  {
   "cell_type": "code",
   "execution_count": 24,
   "metadata": {},
   "outputs": [],
   "source": [
    "profile=df.iloc[:500000].profile_report(\n",
    "    title='Data Profile',\n",
    "    correlations={'spearman':{'calculate':True},\n",
    "                 'pearson':{'calculate':True}},\n",
    "    interactions={'targets':['trip_duration','log_trip_duration'],'continuous':True},\n",
    ")"
   ]
  },
  {
   "cell_type": "code",
   "execution_count": 25,
   "metadata": {},
   "outputs": [
    {
     "name": "stderr",
     "output_type": "stream",
     "text": [
      "Summarize dataset: 100%|██████████| 32/32 [00:51<00:00,  1.61s/it, Completed]                          \n",
      "Generate report structure: 100%|██████████| 1/1 [00:06<00:00,  6.45s/it]\n",
      "Render HTML: 100%|██████████| 1/1 [00:01<00:00,  1.57s/it]\n",
      "Export report to file: 100%|██████████| 1/1 [00:00<00:00, 73.50it/s]\n"
     ]
    }
   ],
   "source": [
    "profile.to_file('df_profile.html')"
   ]
  },
  {
   "cell_type": "code",
   "execution_count": 30,
   "metadata": {},
   "outputs": [
    {
     "data": {
      "text/html": [
       "<div>\n",
       "<style scoped>\n",
       "    .dataframe tbody tr th:only-of-type {\n",
       "        vertical-align: middle;\n",
       "    }\n",
       "\n",
       "    .dataframe tbody tr th {\n",
       "        vertical-align: top;\n",
       "    }\n",
       "\n",
       "    .dataframe thead th {\n",
       "        text-align: right;\n",
       "    }\n",
       "</style>\n",
       "<table border=\"1\" class=\"dataframe\">\n",
       "  <thead>\n",
       "    <tr style=\"text-align: right;\">\n",
       "      <th></th>\n",
       "      <th>id</th>\n",
       "      <th>vendor_id</th>\n",
       "      <th>pickup_datetime</th>\n",
       "      <th>dropoff_datetime</th>\n",
       "      <th>passenger_count</th>\n",
       "      <th>pickup_longitude</th>\n",
       "      <th>pickup_latitude</th>\n",
       "      <th>dropoff_longitude</th>\n",
       "      <th>dropoff_latitude</th>\n",
       "      <th>store_and_fwd_flag</th>\n",
       "      <th>trip_duration</th>\n",
       "      <th>pickup_day</th>\n",
       "      <th>pickup_month</th>\n",
       "      <th>pickup_hour</th>\n",
       "      <th>pickup_min</th>\n",
       "      <th>pickup_weekday</th>\n",
       "      <th>dropoff_min</th>\n",
       "      <th>dropoff_hour</th>\n",
       "      <th>log_trip_duration</th>\n",
       "    </tr>\n",
       "  </thead>\n",
       "  <tbody>\n",
       "    <tr>\n",
       "      <th>0</th>\n",
       "      <td>id2875421</td>\n",
       "      <td>2</td>\n",
       "      <td>2016-03-14 17:24:55</td>\n",
       "      <td>2016-03-14 17:32:30</td>\n",
       "      <td>1</td>\n",
       "      <td>-73.982155</td>\n",
       "      <td>40.767937</td>\n",
       "      <td>-73.964630</td>\n",
       "      <td>40.765602</td>\n",
       "      <td>N</td>\n",
       "      <td>455</td>\n",
       "      <td>14</td>\n",
       "      <td>3</td>\n",
       "      <td>17</td>\n",
       "      <td>24</td>\n",
       "      <td>0</td>\n",
       "      <td>32</td>\n",
       "      <td>17</td>\n",
       "      <td>6.120297</td>\n",
       "    </tr>\n",
       "    <tr>\n",
       "      <th>1</th>\n",
       "      <td>id2377394</td>\n",
       "      <td>1</td>\n",
       "      <td>2016-06-12 00:43:35</td>\n",
       "      <td>2016-06-12 00:54:38</td>\n",
       "      <td>1</td>\n",
       "      <td>-73.980415</td>\n",
       "      <td>40.738564</td>\n",
       "      <td>-73.999481</td>\n",
       "      <td>40.731152</td>\n",
       "      <td>N</td>\n",
       "      <td>663</td>\n",
       "      <td>12</td>\n",
       "      <td>6</td>\n",
       "      <td>0</td>\n",
       "      <td>43</td>\n",
       "      <td>6</td>\n",
       "      <td>54</td>\n",
       "      <td>0</td>\n",
       "      <td>6.496775</td>\n",
       "    </tr>\n",
       "    <tr>\n",
       "      <th>2</th>\n",
       "      <td>id3858529</td>\n",
       "      <td>2</td>\n",
       "      <td>2016-01-19 11:35:24</td>\n",
       "      <td>2016-01-19 12:10:48</td>\n",
       "      <td>1</td>\n",
       "      <td>-73.979027</td>\n",
       "      <td>40.763939</td>\n",
       "      <td>-74.005333</td>\n",
       "      <td>40.710087</td>\n",
       "      <td>N</td>\n",
       "      <td>2124</td>\n",
       "      <td>19</td>\n",
       "      <td>1</td>\n",
       "      <td>11</td>\n",
       "      <td>35</td>\n",
       "      <td>1</td>\n",
       "      <td>10</td>\n",
       "      <td>12</td>\n",
       "      <td>7.661056</td>\n",
       "    </tr>\n",
       "    <tr>\n",
       "      <th>3</th>\n",
       "      <td>id3504673</td>\n",
       "      <td>2</td>\n",
       "      <td>2016-04-06 19:32:31</td>\n",
       "      <td>2016-04-06 19:39:40</td>\n",
       "      <td>1</td>\n",
       "      <td>-74.010040</td>\n",
       "      <td>40.719971</td>\n",
       "      <td>-74.012268</td>\n",
       "      <td>40.706718</td>\n",
       "      <td>N</td>\n",
       "      <td>429</td>\n",
       "      <td>6</td>\n",
       "      <td>4</td>\n",
       "      <td>19</td>\n",
       "      <td>32</td>\n",
       "      <td>2</td>\n",
       "      <td>39</td>\n",
       "      <td>19</td>\n",
       "      <td>6.061457</td>\n",
       "    </tr>\n",
       "    <tr>\n",
       "      <th>4</th>\n",
       "      <td>id2181028</td>\n",
       "      <td>2</td>\n",
       "      <td>2016-03-26 13:30:55</td>\n",
       "      <td>2016-03-26 13:38:10</td>\n",
       "      <td>1</td>\n",
       "      <td>-73.973053</td>\n",
       "      <td>40.793209</td>\n",
       "      <td>-73.972923</td>\n",
       "      <td>40.782520</td>\n",
       "      <td>N</td>\n",
       "      <td>435</td>\n",
       "      <td>26</td>\n",
       "      <td>3</td>\n",
       "      <td>13</td>\n",
       "      <td>30</td>\n",
       "      <td>5</td>\n",
       "      <td>38</td>\n",
       "      <td>13</td>\n",
       "      <td>6.075346</td>\n",
       "    </tr>\n",
       "  </tbody>\n",
       "</table>\n",
       "</div>"
      ],
      "text/plain": [
       "          id  vendor_id     pickup_datetime    dropoff_datetime  passenger_count  \\\n",
       "0  id2875421          2 2016-03-14 17:24:55 2016-03-14 17:32:30                1   \n",
       "1  id2377394          1 2016-06-12 00:43:35 2016-06-12 00:54:38                1   \n",
       "2  id3858529          2 2016-01-19 11:35:24 2016-01-19 12:10:48                1   \n",
       "3  id3504673          2 2016-04-06 19:32:31 2016-04-06 19:39:40                1   \n",
       "4  id2181028          2 2016-03-26 13:30:55 2016-03-26 13:38:10                1   \n",
       "\n",
       "   pickup_longitude  pickup_latitude  dropoff_longitude  dropoff_latitude store_and_fwd_flag  \\\n",
       "0        -73.982155        40.767937         -73.964630         40.765602                  N   \n",
       "1        -73.980415        40.738564         -73.999481         40.731152                  N   \n",
       "2        -73.979027        40.763939         -74.005333         40.710087                  N   \n",
       "3        -74.010040        40.719971         -74.012268         40.706718                  N   \n",
       "4        -73.973053        40.793209         -73.972923         40.782520                  N   \n",
       "\n",
       "   trip_duration  pickup_day  pickup_month  pickup_hour  pickup_min  pickup_weekday  dropoff_min  \\\n",
       "0            455          14             3           17          24               0           32   \n",
       "1            663          12             6            0          43               6           54   \n",
       "2           2124          19             1           11          35               1           10   \n",
       "3            429           6             4           19          32               2           39   \n",
       "4            435          26             3           13          30               5           38   \n",
       "\n",
       "   dropoff_hour  log_trip_duration  \n",
       "0            17           6.120297  \n",
       "1             0           6.496775  \n",
       "2            12           7.661056  \n",
       "3            19           6.061457  \n",
       "4            13           6.075346  "
      ]
     },
     "execution_count": 30,
     "metadata": {},
     "output_type": "execute_result"
    }
   ],
   "source": [
    "df.head()"
   ]
  },
  {
   "cell_type": "markdown",
   "metadata": {},
   "source": [
    "# Data Preprocessing"
   ]
  },
  {
   "cell_type": "markdown",
   "metadata": {},
   "source": [
    "Las variables categóricas son tratadas con <code>get_dummies</code> para crear nuevas columnas y estas se activen si la fila presenta el valor del nombre de la columna"
   ]
  },
  {
   "cell_type": "code",
   "execution_count": 4,
   "metadata": {},
   "outputs": [],
   "source": [
    "df=pd.get_dummies(df,prefix=['vendor_id','store_and_fwd_flag'], columns = ['vendor_id','store_and_fwd_flag'], drop_first=True)"
   ]
  },
  {
   "cell_type": "markdown",
   "metadata": {},
   "source": [
    "La variable X contendrá todas las variables menos la variable target(original y su logaritmo), la variable fecha del recojo y llegada del viaje, así como los componentes temporales respecto a la llegada pues forman parte indirectamente del target.\n",
    "<br><br>\n",
    "\n",
    "Mientras que la variable y, para este ejercicio si se toma el logaritmo aprovechando la distribución que se genera al aplicar la transformación"
   ]
  },
  {
   "cell_type": "code",
   "execution_count": 15,
   "metadata": {},
   "outputs": [],
   "source": [
    "X = df.drop(columns=['log_trip_duration','trip_duration','id','pickup_datetime','dropoff_datetime','dropoff_min','dropoff_hour'])\n",
    "y = df['log_trip_duration']"
   ]
  },
  {
   "cell_type": "markdown",
   "metadata": {},
   "source": [
    "Se estandariza las variables independientes para que estén a la misma escala"
   ]
  },
  {
   "cell_type": "code",
   "execution_count": 16,
   "metadata": {},
   "outputs": [
    {
     "data": {
      "text/html": [
       "<div>\n",
       "<style scoped>\n",
       "    .dataframe tbody tr th:only-of-type {\n",
       "        vertical-align: middle;\n",
       "    }\n",
       "\n",
       "    .dataframe tbody tr th {\n",
       "        vertical-align: top;\n",
       "    }\n",
       "\n",
       "    .dataframe thead th {\n",
       "        text-align: right;\n",
       "    }\n",
       "</style>\n",
       "<table border=\"1\" class=\"dataframe\">\n",
       "  <thead>\n",
       "    <tr style=\"text-align: right;\">\n",
       "      <th></th>\n",
       "      <th>passenger_count</th>\n",
       "      <th>pickup_longitude</th>\n",
       "      <th>pickup_latitude</th>\n",
       "      <th>dropoff_longitude</th>\n",
       "      <th>dropoff_latitude</th>\n",
       "      <th>pickup_day</th>\n",
       "      <th>pickup_month</th>\n",
       "      <th>pickup_hour</th>\n",
       "      <th>pickup_min</th>\n",
       "      <th>pickup_weekday</th>\n",
       "      <th>vendor_id_2</th>\n",
       "      <th>store_and_fwd_flag_Y</th>\n",
       "    </tr>\n",
       "  </thead>\n",
       "  <tbody>\n",
       "    <tr>\n",
       "      <th>0</th>\n",
       "      <td>-0.505637</td>\n",
       "      <td>-0.122261</td>\n",
       "      <td>0.517494</td>\n",
       "      <td>0.124369</td>\n",
       "      <td>0.384575</td>\n",
       "      <td>-0.172813</td>\n",
       "      <td>-0.307440</td>\n",
       "      <td>0.530263</td>\n",
       "      <td>-0.322670</td>\n",
       "      <td>-1.561062</td>\n",
       "      <td>0.932380</td>\n",
       "      <td>-0.074471</td>\n",
       "    </tr>\n",
       "    <tr>\n",
       "      <th>1</th>\n",
       "      <td>-0.505637</td>\n",
       "      <td>-0.097727</td>\n",
       "      <td>-0.375819</td>\n",
       "      <td>-0.368970</td>\n",
       "      <td>-0.575303</td>\n",
       "      <td>-0.402616</td>\n",
       "      <td>1.477173</td>\n",
       "      <td>-2.126116</td>\n",
       "      <td>0.774030</td>\n",
       "      <td>1.509502</td>\n",
       "      <td>-1.072524</td>\n",
       "      <td>-0.074471</td>\n",
       "    </tr>\n",
       "    <tr>\n",
       "      <th>2</th>\n",
       "      <td>-0.505637</td>\n",
       "      <td>-0.078143</td>\n",
       "      <td>0.395910</td>\n",
       "      <td>-0.451805</td>\n",
       "      <td>-1.162220</td>\n",
       "      <td>0.401692</td>\n",
       "      <td>-1.497182</td>\n",
       "      <td>-0.407283</td>\n",
       "      <td>0.312262</td>\n",
       "      <td>-1.049301</td>\n",
       "      <td>0.932380</td>\n",
       "      <td>-0.074471</td>\n",
       "    </tr>\n",
       "    <tr>\n",
       "      <th>3</th>\n",
       "      <td>-0.505637</td>\n",
       "      <td>-0.515558</td>\n",
       "      <td>-0.941274</td>\n",
       "      <td>-0.549976</td>\n",
       "      <td>-1.256071</td>\n",
       "      <td>-1.092023</td>\n",
       "      <td>0.287431</td>\n",
       "      <td>0.842778</td>\n",
       "      <td>0.139099</td>\n",
       "      <td>-0.537541</td>\n",
       "      <td>0.932380</td>\n",
       "      <td>-0.074471</td>\n",
       "    </tr>\n",
       "    <tr>\n",
       "      <th>4</th>\n",
       "      <td>-0.505637</td>\n",
       "      <td>0.006112</td>\n",
       "      <td>1.286091</td>\n",
       "      <td>0.006974</td>\n",
       "      <td>0.855957</td>\n",
       "      <td>1.206001</td>\n",
       "      <td>-0.307440</td>\n",
       "      <td>-0.094768</td>\n",
       "      <td>0.023657</td>\n",
       "      <td>0.997741</td>\n",
       "      <td>0.932380</td>\n",
       "      <td>-0.074471</td>\n",
       "    </tr>\n",
       "  </tbody>\n",
       "</table>\n",
       "</div>"
      ],
      "text/plain": [
       "   passenger_count  pickup_longitude  pickup_latitude  dropoff_longitude  dropoff_latitude  \\\n",
       "0        -0.505637         -0.122261         0.517494           0.124369          0.384575   \n",
       "1        -0.505637         -0.097727        -0.375819          -0.368970         -0.575303   \n",
       "2        -0.505637         -0.078143         0.395910          -0.451805         -1.162220   \n",
       "3        -0.505637         -0.515558        -0.941274          -0.549976         -1.256071   \n",
       "4        -0.505637          0.006112         1.286091           0.006974          0.855957   \n",
       "\n",
       "   pickup_day  pickup_month  pickup_hour  pickup_min  pickup_weekday  vendor_id_2  \\\n",
       "0   -0.172813     -0.307440     0.530263   -0.322670       -1.561062     0.932380   \n",
       "1   -0.402616      1.477173    -2.126116    0.774030        1.509502    -1.072524   \n",
       "2    0.401692     -1.497182    -0.407283    0.312262       -1.049301     0.932380   \n",
       "3   -1.092023      0.287431     0.842778    0.139099       -0.537541     0.932380   \n",
       "4    1.206001     -0.307440    -0.094768    0.023657        0.997741     0.932380   \n",
       "\n",
       "   store_and_fwd_flag_Y  \n",
       "0             -0.074471  \n",
       "1             -0.074471  \n",
       "2             -0.074471  \n",
       "3             -0.074471  \n",
       "4             -0.074471  "
      ]
     },
     "execution_count": 16,
     "metadata": {},
     "output_type": "execute_result"
    }
   ],
   "source": [
    "cols = X.columns\n",
    "\n",
    "ss = StandardScaler()\n",
    "\n",
    "new_df = ss.fit_transform(X)\n",
    "new_df = pd.DataFrame(new_df, columns=cols)\n",
    "new_df.head()"
   ]
  },
  {
   "cell_type": "markdown",
   "metadata": {},
   "source": [
    "Se divide en train y test para realizar validaciones"
   ]
  },
  {
   "cell_type": "code",
   "execution_count": 17,
   "metadata": {},
   "outputs": [],
   "source": [
    "X_train, X_test, y_train, y_test = train_test_split(new_df, y, test_size=0.30, random_state=0)"
   ]
  },
  {
   "cell_type": "markdown",
   "metadata": {},
   "source": [
    "# Feature Selection"
   ]
  },
  {
   "cell_type": "markdown",
   "metadata": {},
   "source": [
    "<code>f_regression</code> permite derteminar si una variable independiente es significativa para la variable dependiente y rankea de acuerdo F-value"
   ]
  },
  {
   "cell_type": "code",
   "execution_count": 18,
   "metadata": {},
   "outputs": [
    {
     "data": {
      "text/plain": [
       "SelectKBest(k='all', score_func=<function f_regression at 0x000002AD0072A048>)"
      ]
     },
     "execution_count": 18,
     "metadata": {},
     "output_type": "execute_result"
    },
    {
     "data": {
      "text/plain": [
       "<BarContainer object of 12 artists>"
      ]
     },
     "execution_count": 18,
     "metadata": {},
     "output_type": "execute_result"
    },
    {
     "data": {
      "text/plain": [
       "Text(0.5, 0, 'feature index')"
      ]
     },
     "execution_count": 18,
     "metadata": {},
     "output_type": "execute_result"
    },
    {
     "data": {
      "text/plain": [
       "Text(0, 0.5, 'F-value (transformed from the correlation values)')"
      ]
     },
     "execution_count": 18,
     "metadata": {},
     "output_type": "execute_result"
    },
    {
     "data": {
      "image/png": "[encoded data removed]",
      "text/plain": [
       "<Figure size 432x288 with 1 Axes>"
      ]
     },
     "metadata": {
      "needs_background": "light"
     },
     "output_type": "display_data"
    }
   ],
   "source": [
    "\n",
    "f_selector = SelectKBest(score_func=f_regression, k='all')\n",
    "\n",
    "f_selector.fit(X_train, y_train)\n",
    "\n",
    "X_train_fs = f_selector.transform(X_train)\n",
    "\n",
    "X_test_fs = f_selector.transform(X_test)\n",
    "\n",
    "plt.bar([i for i in range(len(f_selector.scores_))], f_selector.scores_)\n",
    "plt.xlabel(\"feature index\")\n",
    "plt.ylabel(\"F-value (transformed from the correlation values)\")\n",
    "plt.show()"
   ]
  },
  {
   "cell_type": "markdown",
   "metadata": {},
   "source": [
    "Se observa que la variable en el índice 1,2 y 4 tienen mayor relación"
   ]
  },
  {
   "cell_type": "markdown",
   "metadata": {},
   "source": [
    "Así como el método anterior, <code>mutual_info_regression</code> permite verificar si existe una relación de dependencia entre dos variables: en este caso con la variable y. Esta función tiene como base un método no paramétrico."
   ]
  },
  {
   "cell_type": "code",
   "execution_count": 19,
   "metadata": {},
   "outputs": [
    {
     "data": {
      "text/plain": [
       "SelectKBest(k='all',\n",
       "            score_func=<function mutual_info_regression at 0x000002AD0079DE58>)"
      ]
     },
     "execution_count": 19,
     "metadata": {},
     "output_type": "execute_result"
    },
    {
     "data": {
      "text/plain": [
       "<BarContainer object of 12 artists>"
      ]
     },
     "execution_count": 19,
     "metadata": {},
     "output_type": "execute_result"
    },
    {
     "data": {
      "text/plain": [
       "Text(0.5, 0, 'feature index')"
      ]
     },
     "execution_count": 19,
     "metadata": {},
     "output_type": "execute_result"
    },
    {
     "data": {
      "text/plain": [
       "Text(0, 0.5, 'Estimated MI value')"
      ]
     },
     "execution_count": 19,
     "metadata": {},
     "output_type": "execute_result"
    },
    {
     "data": {
      "image/png": "[encoded data removed]",
      "text/plain": [
       "<Figure size 432x288 with 1 Axes>"
      ]
     },
     "metadata": {
      "needs_background": "light"
     },
     "output_type": "display_data"
    }
   ],
   "source": [
    "\n",
    "f_selector = SelectKBest(score_func=mutual_info_regression, k='all')\n",
    "\n",
    "f_selector.fit(X_train, y_train)\n",
    "\n",
    "X_train_fs = f_selector.transform(X_train)\n",
    "\n",
    "X_test_fs = f_selector.transform(X_test)\n",
    "\n",
    "plt.bar([i for i in range(len(f_selector.scores_))], f_selector.scores_)\n",
    "plt.xlabel(\"feature index\")\n",
    "plt.ylabel(\"Estimated MI value\")\n",
    "plt.show()"
   ]
  },
  {
   "cell_type": "markdown",
   "metadata": {},
   "source": [
    "Se observa que la variable en el índice 1,2,3 y 4 tienen mayor relación"
   ]
  },
  {
   "cell_type": "markdown",
   "metadata": {},
   "source": [
    "Se utiliza el método de OLS (Mínimos cuadrados ordinarios) para validar si existe una relación de dependencia entre las variables independientes y dependiente."
   ]
  },
  {
   "cell_type": "code",
   "execution_count": 21,
   "metadata": {},
   "outputs": [
    {
     "data": {
      "text/plain": [
       "const                    0.000000e+00\n",
       "passenger_count          4.766858e-59\n",
       "pickup_longitude         0.000000e+00\n",
       "pickup_latitude          0.000000e+00\n",
       "dropoff_longitude        1.218280e-07\n",
       "dropoff_latitude         0.000000e+00\n",
       "pickup_day               5.179154e-23\n",
       "pickup_month             0.000000e+00\n",
       "pickup_hour              0.000000e+00\n",
       "pickup_min               3.561479e-20\n",
       "pickup_weekday          9.439555e-179\n",
       "vendor_id_2              8.155610e-62\n",
       "store_and_fwd_flag_Y     5.373019e-49\n",
       "dtype: float64"
      ]
     },
     "execution_count": 21,
     "metadata": {},
     "output_type": "execute_result"
    }
   ],
   "source": [
    "\n",
    "X_1 = sm.add_constant(X_train)\n",
    "\n",
    "model = sm.OLS(y_train,X_1).fit()\n",
    "model.pvalues"
   ]
  },
  {
   "cell_type": "markdown",
   "metadata": {},
   "source": [
    "Todas las variables tienen un pvalue menor a 0.5 por lo que son significativas para el modelo"
   ]
  },
  {
   "cell_type": "markdown",
   "metadata": {},
   "source": [
    "Por útlimo, probamos el con método de **backward elimination** que busca eliminar las variables que menos aportan a explicar la variable dependiente "
   ]
  },
  {
   "cell_type": "code",
   "execution_count": 22,
   "metadata": {},
   "outputs": [
    {
     "name": "stdout",
     "output_type": "stream",
     "text": [
      "['passenger_count', 'pickup_longitude', 'pickup_latitude', 'dropoff_longitude', 'dropoff_latitude', 'pickup_day', 'pickup_month', 'pickup_hour', 'pickup_min', 'pickup_weekday', 'vendor_id_2', 'store_and_fwd_flag_Y']\n"
     ]
    }
   ],
   "source": [
    "\n",
    "cols = list(X_train.columns)\n",
    "pmax = 1\n",
    "while (len(cols)>0):\n",
    "    p= []\n",
    "    X_1 = X_train[cols]\n",
    "    X_1 = sm.add_constant(X_1)\n",
    "    model = sm.OLS(y_train,X_1).fit()\n",
    "    p = pd.Series(model.pvalues.values[1:],index = cols)      \n",
    "    pmax = max(p)\n",
    "    feature_with_p_max = p.idxmax()\n",
    "    if(pmax>0.05):\n",
    "        cols.remove(feature_with_p_max)\n",
    "    else:\n",
    "        break\n",
    "selected_features_BE = cols\n",
    "print(selected_features_BE)"
   ]
  },
  {
   "cell_type": "markdown",
   "metadata": {},
   "source": [
    "No se llega a eliminar ninguna variable"
   ]
  },
  {
   "cell_type": "markdown",
   "metadata": {},
   "source": [
    "# Entrenamiento de modelos"
   ]
  },
  {
   "cell_type": "markdown",
   "metadata": {},
   "source": [
    "Utilizaremos las siguientes métricas para comparar los modelos:\n",
    "* R2\n",
    "* RMSLE"
   ]
  },
  {
   "cell_type": "markdown",
   "metadata": {},
   "source": [
    "## Regresión lineal"
   ]
  },
  {
   "cell_type": "code",
   "execution_count": 23,
   "metadata": {},
   "outputs": [
    {
     "data": {
      "text/plain": [
       "LinearRegression()"
      ]
     },
     "execution_count": 23,
     "metadata": {},
     "output_type": "execute_result"
    }
   ],
   "source": [
    "model=LinearRegression()\n",
    "model.fit(X_train,y_train)\n",
    "pred=model.predict(X_test)"
   ]
  },
  {
   "cell_type": "code",
   "execution_count": 27,
   "metadata": {},
   "outputs": [
    {
     "name": "stdout",
     "output_type": "stream",
     "text": [
      "Training Score :  0.041708579701428494\n",
      "Validation Score :  0.04838363060798523\n",
      "Cross Validation Score :  0.03757497363927202\n",
      "R2_Score :  -24.78948534421084\n"
     ]
    }
   ],
   "source": [
    "#examining scores\n",
    "\n",
    "print (\"Training Score : \" , model.score(X_train, y_train))\n",
    "\n",
    "print (\"Validation Score : \", model.score(X_test, y_test))\n",
    "\n",
    "print (\"Cross Validation Score : \" , cross_val_score(model, X_train, y_train, cv=5).mean())\n",
    "\n",
    "print (\"R2_Score : \", r2_score(pred, y_test))\n",
    "\n",
    "#print (\"RMSLE : \", np.sqrt(mean_squared_log_error(pred, y_test)))"
   ]
  },
  {
   "cell_type": "markdown",
   "metadata": {},
   "source": [
    "## Árbol de decisión"
   ]
  },
  {
   "cell_type": "code",
   "execution_count": 28,
   "metadata": {},
   "outputs": [
    {
     "data": {
      "text/plain": [
       "DecisionTreeRegressor(criterion='mse', max_depth=10)"
      ]
     },
     "execution_count": 28,
     "metadata": {},
     "output_type": "execute_result"
    },
    {
     "data": {
      "text/plain": [
       "array([6.45031806, 7.25884   , 7.33326361, ..., 5.91509524, 6.06218892,\n",
       "       5.98143875])"
      ]
     },
     "execution_count": 28,
     "metadata": {},
     "output_type": "execute_result"
    }
   ],
   "source": [
    "from sklearn.tree import DecisionTreeRegressor\n",
    "\n",
    "est_dt = DecisionTreeRegressor(criterion=\"mse\", max_depth=10)\n",
    "est_dt.fit(X_train, y_train)\n",
    "dt_pred = est_dt.predict(X_test)"
   ]
  },
  {
   "cell_type": "code",
   "execution_count": 29,
   "metadata": {},
   "outputs": [
    {
     "name": "stdout",
     "output_type": "stream",
     "text": [
      "Training Score :  0.45548546860329897\n",
      "Validation Score :  0.45018851293072293\n",
      "Cross Validation Score :  0.44367918388137806\n",
      "R2_Score :  -0.19917211987414496\n",
      "RMSLE :  0.08841038342849017\n"
     ]
    }
   ],
   "source": [
    "print (\"Training Score : \" , est_dt.score(X_train, y_train))\n",
    "\n",
    "print (\"Validation Score : \", est_dt.score(X_test, y_test))\n",
    "\n",
    "print (\"Cross Validation Score : \" , cross_val_score(est_dt, X_train, y_train, cv=5).mean())\n",
    "\n",
    "print (\"R2_Score : \", r2_score(dt_pred, y_test))\n",
    "\n",
    "print (\"RMSLE : \", np.sqrt(mean_squared_log_error(dt_pred, y_test)))"
   ]
  },
  {
   "cell_type": "markdown",
   "metadata": {},
   "source": [
    "## Bosque aleatorio"
   ]
  },
  {
   "cell_type": "code",
   "execution_count": 30,
   "metadata": {},
   "outputs": [
    {
     "data": {
      "text/plain": [
       "RandomForestRegressor(criterion='mse', max_depth=10, n_estimators=5)"
      ]
     },
     "execution_count": 30,
     "metadata": {},
     "output_type": "execute_result"
    },
    {
     "data": {
      "text/plain": [
       "array([6.43314441, 7.31403654, 7.50859704, ..., 5.90121521, 6.77135327,\n",
       "       5.93317291])"
      ]
     },
     "execution_count": 30,
     "metadata": {},
     "output_type": "execute_result"
    }
   ],
   "source": [
    "from sklearn.ensemble import RandomForestRegressor\n",
    "\n",
    "est_rf = RandomForestRegressor(criterion=\"mse\", n_estimators=50, max_depth=10)\n",
    "est_rf.fit(X_train, y_train)\n",
    "rf_pred = est_rf.predict(X_test)"
   ]
  },
  {
   "cell_type": "code",
   "execution_count": 31,
   "metadata": {},
   "outputs": [
    {
     "name": "stdout",
     "output_type": "stream",
     "text": [
      "Training Score :  0.472558241652824\n",
      "Validation Score :  0.46908472619373986\n",
      "Cross Validation Score :  0.47019494313907534\n",
      "R2_Score :  -0.18953756842584202\n",
      "RMSLE :  0.08705871522695947\n"
     ]
    }
   ],
   "source": [
    "print (\"Training Score : \" , est_rf.score(X_train, y_train))\n",
    "\n",
    "print (\"Validation Score : \", est_rf.score(X_test, y_test))\n",
    "\n",
    "print (\"Cross Validation Score : \" , cross_val_score(est_rf, X_train, y_train, cv=5).mean())\n",
    "\n",
    "print (\"R2_Score : \", r2_score(rf_pred, y_test))\n",
    "\n",
    "print (\"RMSLE : \", np.sqrt(mean_squared_log_error(rf_pred, y_test)))"
   ]
  },
  {
   "cell_type": "markdown",
   "metadata": {},
   "source": [
    "## Lightgbm Regressor"
   ]
  },
  {
   "cell_type": "code",
   "execution_count": 35,
   "metadata": {},
   "outputs": [
    {
     "data": {
      "text/plain": [
       "LGBMRegressor(metric='mse', n_estimators=50, objective='mse', random_state=1)"
      ]
     },
     "execution_count": 35,
     "metadata": {},
     "output_type": "execute_result"
    }
   ],
   "source": [
    "model = lgb.LGBMRegressor(boosting_type= 'gbdt',objective= 'mse',metric= 'mse',\n",
    "    n_estimators= 50,random_state=1)\n",
    "model.fit(X_train, y_train,\n",
    "        eval_set=[(X_test, y_test)],verbose=False)\n",
    "pred = model.predict(X_test) "
   ]
  },
  {
   "cell_type": "code",
   "execution_count": 36,
   "metadata": {},
   "outputs": [
    {
     "name": "stdout",
     "output_type": "stream",
     "text": [
      "Training Score :  0.5535562844120776\n",
      "Validation Score :  0.5554312007799898\n",
      "Cross Validation Score :  0.5550509807266366\n",
      "R2_Score :  -0.06394544238009225\n",
      "RMSLE :  0.08119237053583579\n"
     ]
    }
   ],
   "source": [
    "print (\"Training Score : \" , model.score(X_train, y_train))\n",
    "\n",
    "print (\"Validation Score : \", model.score(X_test, y_test))\n",
    "\n",
    "print (\"Cross Validation Score : \" , cross_val_score(model, X_train, y_train, cv=5).mean())\n",
    "\n",
    "print (\"R2_Score : \", r2_score(pred, y_test))\n",
    "\n",
    "print (\"RMSLE : \", np.sqrt(mean_squared_log_error(pred, y_test)))"
   ]
  },
  {
   "cell_type": "markdown",
   "metadata": {},
   "source": [
    "Se observa que el modelo de lightgbm es más rápido que los otros modelos y en cuanto a métricas se tiene resultados aceptables en comparación a los otros. Con esto pasamos a la etapa de optimización de hiperparámetros."
   ]
  }
 ],
 "metadata": {
  "interpreter": {
   "hash": "2b40e99855d89b0e5584e2f36b9276db130fec0023825d3d1fdddf446a5469cb"
  },
  "kernelspec": {
   "display_name": "Python 3.7.10 ('bafi_churn')",
   "language": "python",
   "name": "python3"
  },
  "language_info": {
   "codemirror_mode": {
    "name": "ipython",
    "version": 3
   },
   "file_extension": ".py",
   "mimetype": "text/x-python",
   "name": "python",
   "nbconvert_exporter": "python",
   "pygments_lexer": "ipython3",
   "version": "3.7.10"
  },
  "orig_nbformat": 4
 },
 "nbformat": 4,
 "nbformat_minor": 2
}
